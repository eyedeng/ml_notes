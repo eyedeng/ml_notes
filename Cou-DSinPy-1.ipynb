{
 "cells": [
  {
   "cell_type": "markdown",
   "metadata": {},
   "source": [
    "[python 数据科学](https://www.coursera.org/learn/python-data-analysis)"
   ]
  },
  {
   "cell_type": "markdown",
   "metadata": {},
   "source": [
    "## python fundamentals"
   ]
  },
  {
   "cell_type": "markdown",
   "metadata": {},
   "source": [
    "序列[]{}()   \n",
    "迭代遍历for x in ..   \n",
    "切片[:-1]   \n",
    "list, str, tuple, dict"
   ]
  },
  {
   "cell_type": "code",
   "execution_count": 8,
   "metadata": {},
   "outputs": [
    {
     "data": {
      "text/plain": [
       "3"
      ]
     },
     "execution_count": 8,
     "metadata": {},
     "output_type": "execute_result"
    }
   ],
   "source": [
    "# func 默认参数\n",
    "def add_nums(a, b, c=None):\n",
    "    if c == None:\n",
    "        return a + b\n",
    "    return a + b +c\n",
    "\n",
    "add_nums(1, 2)"
   ]
  },
  {
   "cell_type": "code",
   "execution_count": 2,
   "metadata": {},
   "outputs": [
    {
     "data": {
      "text/plain": [
       "'abd'"
      ]
     },
     "execution_count": 2,
     "metadata": {},
     "output_type": "execute_result"
    }
   ],
   "source": [
    "add_nums('a', 'b', 'd')"
   ]
  },
  {
   "cell_type": "code",
   "execution_count": 3,
   "metadata": {},
   "outputs": [],
   "source": [
    "class Tree:\n",
    "    def __init__(self, date=None, left=None, right=None):\n",
    "        self.date = date\n",
    "        self.left = left\n",
    "        self.right = right\n",
    "\n",
    "def inv(node):  # functional program\n",
    "    if node is None:\n",
    "        return None\n",
    "    return Tree(node.date, inv(node.right), inv(node.left))\n",
    "\n",
    "bt = Tree(1, Tree(2, Tree(4), Tree(5)), Tree(3, Tree(6)))"
   ]
  },
  {
   "cell_type": "code",
   "execution_count": 1,
   "metadata": {},
   "outputs": [
    {
     "name": "stdout",
     "output_type": "stream",
     "text": [
      "0\n",
      "1\n",
      "4\n",
      "9\n",
      "16\n"
     ]
    }
   ],
   "source": [
    "for i in range(5):\n",
    "    print((lambda x : x ** 2)(i))"
   ]
  },
  {
   "cell_type": "code",
   "execution_count": 1,
   "metadata": {},
   "outputs": [
    {
     "name": "stdout",
     "output_type": "stream",
     "text": [
      "audi 1999\n",
      "audi 1999\n",
      "audi 2008\n",
      "audi 2008\n",
      "audi 1999\n",
      "audi 1999\n",
      "audi 2008\n",
      "audi 1999\n",
      "audi 1999\n",
      "audi 2008\n",
      "audi 2008\n",
      "audi 1999\n",
      "audi 1999\n",
      "audi 2008\n",
      "audi 2008\n",
      "audi 1999\n",
      "audi 2008\n",
      "audi 2008\n",
      "chevrolet 2008\n",
      "chevrolet 2008\n",
      "chevrolet 2008\n",
      "chevrolet 1999\n",
      "chevrolet 2008\n",
      "chevrolet 1999\n",
      "chevrolet 1999\n",
      "chevrolet 2008\n",
      "chevrolet 2008\n",
      "chevrolet 2008\n",
      "chevrolet 2008\n",
      "chevrolet 2008\n",
      "chevrolet 1999\n",
      "chevrolet 1999\n",
      "chevrolet 1999\n",
      "chevrolet 2008\n",
      "chevrolet 1999\n",
      "chevrolet 2008\n",
      "chevrolet 2008\n",
      "dodge 1999\n",
      "dodge 1999\n",
      "dodge 1999\n",
      "dodge 1999\n",
      "dodge 2008\n",
      "dodge 2008\n",
      "dodge 2008\n",
      "dodge 1999\n",
      "dodge 1999\n",
      "dodge 2008\n",
      "dodge 2008\n",
      "dodge 2008\n",
      "dodge 2008\n",
      "dodge 1999\n",
      "dodge 1999\n",
      "dodge 2008\n",
      "dodge 2008\n",
      "dodge 2008\n",
      "dodge 1999\n",
      "dodge 1999\n",
      "dodge 1999\n",
      "dodge 2008\n",
      "dodge 2008\n",
      "dodge 2008\n",
      "dodge 1999\n",
      "dodge 2008\n",
      "dodge 1999\n",
      "dodge 2008\n",
      "dodge 2008\n",
      "dodge 2008\n",
      "dodge 2008\n",
      "dodge 2008\n",
      "dodge 2008\n",
      "dodge 1999\n",
      "dodge 1999\n",
      "dodge 2008\n",
      "dodge 1999\n",
      "ford 1999\n",
      "ford 1999\n",
      "ford 2008\n",
      "ford 1999\n",
      "ford 1999\n",
      "ford 1999\n",
      "ford 2008\n",
      "ford 2008\n",
      "ford 1999\n",
      "ford 1999\n",
      "ford 1999\n",
      "ford 1999\n",
      "ford 1999\n",
      "ford 2008\n",
      "ford 1999\n",
      "ford 2008\n",
      "ford 1999\n",
      "ford 1999\n",
      "ford 2008\n",
      "ford 2008\n",
      "ford 1999\n",
      "ford 1999\n",
      "ford 2008\n",
      "ford 2008\n",
      "ford 2008\n",
      "honda 1999\n",
      "honda 1999\n",
      "honda 1999\n",
      "honda 1999\n",
      "honda 1999\n",
      "honda 2008\n",
      "honda 2008\n",
      "honda 2008\n",
      "honda 2008\n",
      "hyundai 1999\n",
      "hyundai 1999\n",
      "hyundai 2008\n",
      "hyundai 2008\n",
      "hyundai 1999\n",
      "hyundai 1999\n",
      "hyundai 2008\n",
      "hyundai 1999\n",
      "hyundai 1999\n",
      "hyundai 2008\n",
      "hyundai 2008\n",
      "hyundai 2008\n",
      "hyundai 2008\n",
      "hyundai 2008\n",
      "jeep 2008\n",
      "jeep 2008\n",
      "jeep 1999\n",
      "jeep 1999\n",
      "jeep 2008\n",
      "jeep 2008\n",
      "jeep 2008\n",
      "jeep 2008\n",
      "land rover 1999\n",
      "land rover 2008\n",
      "land rover 2008\n",
      "land rover 1999\n",
      "lincoln 1999\n",
      "lincoln 1999\n",
      "lincoln 2008\n",
      "mercury 1999\n",
      "mercury 2008\n",
      "mercury 2008\n",
      "mercury 1999\n",
      "nissan 1999\n",
      "nissan 1999\n",
      "nissan 2008\n",
      "nissan 2008\n",
      "nissan 2008\n",
      "nissan 2008\n",
      "nissan 1999\n",
      "nissan 1999\n",
      "nissan 2008\n",
      "nissan 1999\n",
      "nissan 1999\n",
      "nissan 2008\n",
      "nissan 2008\n",
      "pontiac 1999\n",
      "pontiac 1999\n",
      "pontiac 1999\n",
      "pontiac 2008\n",
      "pontiac 2008\n",
      "subaru 1999\n",
      "subaru 1999\n",
      "subaru 2008\n",
      "subaru 2008\n",
      "subaru 2008\n",
      "subaru 2008\n",
      "subaru 1999\n",
      "subaru 1999\n",
      "subaru 1999\n",
      "subaru 1999\n",
      "subaru 2008\n",
      "subaru 2008\n",
      "subaru 2008\n",
      "subaru 2008\n",
      "toyota 1999\n",
      "toyota 1999\n",
      "toyota 1999\n",
      "toyota 1999\n",
      "toyota 2008\n",
      "toyota 2008\n",
      "toyota 1999\n",
      "toyota 1999\n",
      "toyota 2008\n",
      "toyota 2008\n",
      "toyota 1999\n",
      "toyota 1999\n",
      "toyota 2008\n",
      "toyota 1999\n",
      "toyota 1999\n",
      "toyota 2008\n",
      "toyota 2008\n",
      "toyota 1999\n",
      "toyota 1999\n",
      "toyota 2008\n",
      "toyota 1999\n",
      "toyota 1999\n",
      "toyota 1999\n",
      "toyota 2008\n",
      "toyota 2008\n",
      "toyota 1999\n",
      "toyota 2008\n",
      "toyota 1999\n",
      "toyota 1999\n",
      "toyota 2008\n",
      "toyota 1999\n",
      "toyota 1999\n",
      "toyota 2008\n",
      "toyota 2008\n",
      "volkswagen 1999\n",
      "volkswagen 1999\n",
      "volkswagen 2008\n",
      "volkswagen 2008\n",
      "volkswagen 1999\n",
      "volkswagen 1999\n",
      "volkswagen 1999\n",
      "volkswagen 1999\n",
      "volkswagen 2008\n",
      "volkswagen 2008\n",
      "volkswagen 2008\n",
      "volkswagen 2008\n",
      "volkswagen 1999\n",
      "volkswagen 1999\n",
      "volkswagen 1999\n",
      "volkswagen 1999\n",
      "volkswagen 1999\n",
      "volkswagen 1999\n",
      "volkswagen 2008\n",
      "volkswagen 2008\n",
      "volkswagen 1999\n",
      "volkswagen 1999\n",
      "volkswagen 2008\n",
      "volkswagen 2008\n",
      "volkswagen 1999\n",
      "volkswagen 1999\n",
      "volkswagen 2008\n"
     ]
    },
    {
     "data": {
      "text/plain": [
       "odict_items([('', '234'), ('manufacturer', 'volkswagen'), ('model', 'passat'), ('displ', '3.6'), ('year', '2008'), ('cyl', '6'), ('trans', 'auto(s6)'), ('drv', 'f'), ('cty', '17'), ('hwy', '26'), ('fl', 'p'), ('class', 'midsize')])"
      ]
     },
     "execution_count": 1,
     "metadata": {},
     "output_type": "execute_result"
    }
   ],
   "source": [
    "import csv\n",
    "with open('mpg.csv') as csvfile:\n",
    "    mpg = csv.DictReader(csvfile)  # 字典形式\n",
    "    for row in mpg:\n",
    "        print(row['manufacturer'], row['year'])\n",
    "row.items()"
   ]
  },
  {
   "cell_type": "code",
   "execution_count": 5,
   "metadata": {},
   "outputs": [
    {
     "data": {
      "text/plain": [
       "'2008'"
      ]
     },
     "execution_count": 5,
     "metadata": {},
     "output_type": "execute_result"
    }
   ],
   "source": [
    "with open('mpg.csv') as csvfile:\n",
    "    mpg = list(csv.DictReader(csvfile))  # 转list 可索引\n",
    "mpg[2]['year']"
   ]
  },
  {
   "cell_type": "code",
   "execution_count": 6,
   "metadata": {},
   "outputs": [
    {
     "data": {
      "text/plain": [
       "{'audi',\n",
       " 'chevrolet',\n",
       " 'dodge',\n",
       " 'ford',\n",
       " 'honda',\n",
       " 'hyundai',\n",
       " 'jeep',\n",
       " 'land rover',\n",
       " 'lincoln',\n",
       " 'mercury',\n",
       " 'nissan',\n",
       " 'pontiac',\n",
       " 'subaru',\n",
       " 'toyota',\n",
       " 'volkswagen'}"
      ]
     },
     "execution_count": 6,
     "metadata": {},
     "output_type": "execute_result"
    }
   ],
   "source": [
    "set(c['manufacturer'] for c in mpg)"
   ]
  },
  {
   "cell_type": "markdown",
   "metadata": {},
   "source": [
    "## numpy"
   ]
  },
  {
   "cell_type": "code",
   "execution_count": 7,
   "metadata": {},
   "outputs": [
    {
     "data": {
      "text/plain": [
       "array([[1, 2, 3],\n",
       "       [4, 5, 6]])"
      ]
     },
     "execution_count": 7,
     "metadata": {},
     "output_type": "execute_result"
    }
   ],
   "source": [
    "import numpy as np\n",
    "np.array([[1, 2, 3], [4, 5, 6]])"
   ]
  },
  {
   "cell_type": "code",
   "execution_count": 8,
   "metadata": {},
   "outputs": [
    {
     "data": {
      "text/plain": [
       "array([[20, 22, 24, 26, 28],\n",
       "       [30, 32, 34, 36, 38]])"
      ]
     },
     "execution_count": 8,
     "metadata": {},
     "output_type": "execute_result"
    }
   ],
   "source": [
    "np.arange(20, 40, 2).reshape(2, 5)"
   ]
  },
  {
   "cell_type": "code",
   "execution_count": 11,
   "metadata": {},
   "outputs": [
    {
     "data": {
      "text/plain": [
       "array([[20.        , 22.22222222],\n",
       "       [24.44444444, 26.66666667],\n",
       "       [28.88888889, 31.11111111],\n",
       "       [33.33333333, 35.55555556],\n",
       "       [37.77777778, 40.        ]])"
      ]
     },
     "execution_count": 11,
     "metadata": {},
     "output_type": "execute_result"
    }
   ],
   "source": [
    "x = np.linspace(20, 40, 10)  # nums=10 in [20,40)\n",
    "x.resize(5, 2)  # x has changed\n",
    "x"
   ]
  },
  {
   "cell_type": "code",
   "execution_count": 16,
   "metadata": {},
   "outputs": [
    {
     "name": "stdout",
     "output_type": "stream",
     "text": [
      "30.0\n",
      "9\n"
     ]
    },
    {
     "data": {
      "text/plain": [
       "array([22.22222222, 26.66666667])"
      ]
     },
     "execution_count": 16,
     "metadata": {},
     "output_type": "execute_result"
    }
   ],
   "source": [
    "print(x.mean())\n",
    "print(x.argmax())\n",
    "x[:2, 1]"
   ]
  },
  {
   "cell_type": "markdown",
   "metadata": {},
   "source": [
    "## pandas\n",
    "Series DataFrame"
   ]
  },
  {
   "cell_type": "code",
   "execution_count": 3,
   "metadata": {},
   "outputs": [],
   "source": [
    "import pandas as pd\n",
    "import numpy as np"
   ]
  },
  {
   "cell_type": "code",
   "execution_count": 4,
   "metadata": {},
   "outputs": [
    {
     "data": {
      "text/plain": [
       "Sat.         math\n",
       "Sun.    algorithm\n",
       "Mon.        write\n",
       "dtype: object"
      ]
     },
     "execution_count": 4,
     "metadata": {},
     "output_type": "execute_result"
    }
   ],
   "source": [
    "plan = pd.Series(['math', 'algorithm', 'write'], index=['Sat.', 'Sun.', 'Mon.'])  ## creat\n",
    "plan"
   ]
  },
  {
   "cell_type": "code",
   "execution_count": 5,
   "metadata": {},
   "outputs": [
    {
     "data": {
      "text/plain": [
       "Index(['Sat.', 'Sun.', 'Mon.'], dtype='object')"
      ]
     },
     "execution_count": 5,
     "metadata": {},
     "output_type": "execute_result"
    }
   ],
   "source": [
    "plan.index"
   ]
  },
  {
   "cell_type": "code",
   "execution_count": 8,
   "metadata": {},
   "outputs": [
    {
     "data": {
      "text/plain": [
       "'math'"
      ]
     },
     "execution_count": 8,
     "metadata": {},
     "output_type": "execute_result"
    }
   ],
   "source": [
    "plan.iloc[0]  # attribute use [], not method ()"
   ]
  },
  {
   "cell_type": "code",
   "execution_count": 9,
   "metadata": {},
   "outputs": [
    {
     "data": {
      "text/plain": [
       "'write'"
      ]
     },
     "execution_count": 9,
     "metadata": {},
     "output_type": "execute_result"
    }
   ],
   "source": [
    "plan.loc['Mon.']"
   ]
  },
  {
   "cell_type": "code",
   "execution_count": 15,
   "metadata": {},
   "outputs": [
    {
     "data": {
      "text/plain": [
       "0    1966\n",
       "1    1073\n",
       "2    1441\n",
       "3    1408\n",
       "4    1739\n",
       "dtype: int32"
      ]
     },
     "execution_count": 15,
     "metadata": {},
     "output_type": "execute_result"
    }
   ],
   "source": [
    "many = pd.Series(np.random.randint(1000, 2001, 1000000))\n",
    "many.head()"
   ]
  },
  {
   "cell_type": "code",
   "execution_count": 18,
   "metadata": {},
   "outputs": [
    {
     "name": "stdout",
     "output_type": "stream",
     "text": [
      "7.65 ms ± 230 µs per loop (mean ± std. dev. of 7 runs, 100 loops each)\n"
     ]
    }
   ],
   "source": [
    "%%timeit\n",
    "total = np.sum(many)"
   ]
  },
  {
   "cell_type": "code",
   "execution_count": 19,
   "metadata": {},
   "outputs": [
    {
     "data": {
      "text/plain": [
       "0    3952\n",
       "1    3059\n",
       "dtype: int32"
      ]
     },
     "execution_count": 19,
     "metadata": {},
     "output_type": "execute_result"
    }
   ],
   "source": [
    "many += 1986  # broadcast\n",
    "many.head(2)"
   ]
  },
  {
   "cell_type": "code",
   "execution_count": 23,
   "metadata": {},
   "outputs": [
    {
     "data": {
      "text/plain": [
       "Sat.         math\n",
       "Sun.    algorithm\n",
       "Mon.        write\n",
       "7            rest\n",
       "8            None\n",
       "dtype: object"
      ]
     },
     "execution_count": 23,
     "metadata": {},
     "output_type": "execute_result"
    }
   ],
   "source": [
    "plan.loc[7] = 'rest'\n",
    "plan.loc[8] = None\n",
    "plan"
   ]
  },
  {
   "cell_type": "code",
   "execution_count": 25,
   "metadata": {},
   "outputs": [],
   "source": [
    "plan2 = pd.Series({'Sat.': 'sleep',\n",
    "                   'Sun.': 'eat',\n",
    "                   'Mon.': 'play'})"
   ]
  },
  {
   "cell_type": "code",
   "execution_count": 27,
   "metadata": {},
   "outputs": [],
   "source": [
    "plan3 = pd.Series({'Sat.': 'work',\n",
    "                   'Sun.': 'work',\n",
    "                   'Mon.': 'rest'})"
   ]
  },
  {
   "cell_type": "code",
   "execution_count": 28,
   "metadata": {},
   "outputs": [
    {
     "data": {
      "text/html": [
       "<div>\n",
       "<style scoped>\n",
       "    .dataframe tbody tr th:only-of-type {\n",
       "        vertical-align: middle;\n",
       "    }\n",
       "\n",
       "    .dataframe tbody tr th {\n",
       "        vertical-align: top;\n",
       "    }\n",
       "\n",
       "    .dataframe thead th {\n",
       "        text-align: right;\n",
       "    }\n",
       "</style>\n",
       "<table border=\"1\" class=\"dataframe\">\n",
       "  <thead>\n",
       "    <tr style=\"text-align: right;\">\n",
       "      <th></th>\n",
       "      <th>Sat.</th>\n",
       "      <th>Sun.</th>\n",
       "      <th>Mon.</th>\n",
       "      <th>7</th>\n",
       "      <th>8</th>\n",
       "    </tr>\n",
       "  </thead>\n",
       "  <tbody>\n",
       "    <tr>\n",
       "      <th>dy</th>\n",
       "      <td>math</td>\n",
       "      <td>algorithm</td>\n",
       "      <td>write</td>\n",
       "      <td>rest</td>\n",
       "      <td>NaN</td>\n",
       "    </tr>\n",
       "    <tr>\n",
       "      <th>fhp</th>\n",
       "      <td>sleep</td>\n",
       "      <td>eat</td>\n",
       "      <td>play</td>\n",
       "      <td>NaN</td>\n",
       "      <td>NaN</td>\n",
       "    </tr>\n",
       "    <tr>\n",
       "      <th>fhp</th>\n",
       "      <td>work</td>\n",
       "      <td>work</td>\n",
       "      <td>rest</td>\n",
       "      <td>NaN</td>\n",
       "      <td>NaN</td>\n",
       "    </tr>\n",
       "  </tbody>\n",
       "</table>\n",
       "</div>"
      ],
      "text/plain": [
       "      Sat.       Sun.   Mon.     7   8\n",
       "dy    math  algorithm  write  rest NaN\n",
       "fhp  sleep        eat   play   NaN NaN\n",
       "fhp   work       work   rest   NaN NaN"
      ]
     },
     "execution_count": 28,
     "metadata": {},
     "output_type": "execute_result"
    }
   ],
   "source": [
    "df = pd.DataFrame([plan, plan2, plan3], index=['dy', 'fhp', 'fhp'])  ## creat\n",
    "df"
   ]
  },
  {
   "cell_type": "code",
   "execution_count": 36,
   "metadata": {},
   "outputs": [
    {
     "data": {
      "text/html": [
       "<div>\n",
       "<style scoped>\n",
       "    .dataframe tbody tr th:only-of-type {\n",
       "        vertical-align: middle;\n",
       "    }\n",
       "\n",
       "    .dataframe tbody tr th {\n",
       "        vertical-align: top;\n",
       "    }\n",
       "\n",
       "    .dataframe thead th {\n",
       "        text-align: right;\n",
       "    }\n",
       "</style>\n",
       "<table border=\"1\" class=\"dataframe\">\n",
       "  <thead>\n",
       "    <tr style=\"text-align: right;\">\n",
       "      <th></th>\n",
       "      <th>Sat.</th>\n",
       "      <th>Sun.</th>\n",
       "      <th>Mon.</th>\n",
       "      <th>7</th>\n",
       "      <th>8</th>\n",
       "    </tr>\n",
       "  </thead>\n",
       "  <tbody>\n",
       "    <tr>\n",
       "      <th>fhp</th>\n",
       "      <td>sleep</td>\n",
       "      <td>eat</td>\n",
       "      <td>play</td>\n",
       "      <td>NaN</td>\n",
       "      <td>NaN</td>\n",
       "    </tr>\n",
       "    <tr>\n",
       "      <th>fhp</th>\n",
       "      <td>work</td>\n",
       "      <td>work</td>\n",
       "      <td>rest</td>\n",
       "      <td>NaN</td>\n",
       "      <td>NaN</td>\n",
       "    </tr>\n",
       "  </tbody>\n",
       "</table>\n",
       "</div>"
      ],
      "text/plain": [
       "      Sat.  Sun.  Mon.    7   8\n",
       "fhp  sleep   eat  play  NaN NaN\n",
       "fhp   work  work  rest  NaN NaN"
      ]
     },
     "execution_count": 36,
     "metadata": {},
     "output_type": "execute_result"
    }
   ],
   "source": [
    "df.loc['fhp']"
   ]
  },
  {
   "cell_type": "code",
   "execution_count": 37,
   "metadata": {},
   "outputs": [
    {
     "data": {
      "text/plain": [
       "'write'"
      ]
     },
     "execution_count": 37,
     "metadata": {},
     "output_type": "execute_result"
    }
   ],
   "source": [
    "df.loc['dy', 'Mon.']"
   ]
  },
  {
   "cell_type": "code",
   "execution_count": 38,
   "metadata": {},
   "outputs": [
    {
     "data": {
      "text/plain": [
       "dy      math\n",
       "fhp    sleep\n",
       "fhp     work\n",
       "Name: Sat., dtype: object"
      ]
     },
     "execution_count": 38,
     "metadata": {},
     "output_type": "execute_result"
    }
   ],
   "source": [
    "df.T.loc['Sat.']"
   ]
  },
  {
   "cell_type": "code",
   "execution_count": 40,
   "metadata": {},
   "outputs": [
    {
     "data": {
      "text/plain": [
       "dy      math\n",
       "fhp    sleep\n",
       "fhp     work\n",
       "Name: Sat., dtype: object"
      ]
     },
     "execution_count": 40,
     "metadata": {},
     "output_type": "execute_result"
    }
   ],
   "source": [
    "df['Sat.']"
   ]
  },
  {
   "cell_type": "code",
   "execution_count": 41,
   "metadata": {},
   "outputs": [
    {
     "data": {
      "text/html": [
       "<div>\n",
       "<style scoped>\n",
       "    .dataframe tbody tr th:only-of-type {\n",
       "        vertical-align: middle;\n",
       "    }\n",
       "\n",
       "    .dataframe tbody tr th {\n",
       "        vertical-align: top;\n",
       "    }\n",
       "\n",
       "    .dataframe thead th {\n",
       "        text-align: right;\n",
       "    }\n",
       "</style>\n",
       "<table border=\"1\" class=\"dataframe\">\n",
       "  <thead>\n",
       "    <tr style=\"text-align: right;\">\n",
       "      <th></th>\n",
       "      <th>Sun.</th>\n",
       "      <th>Mon.</th>\n",
       "    </tr>\n",
       "  </thead>\n",
       "  <tbody>\n",
       "    <tr>\n",
       "      <th>dy</th>\n",
       "      <td>algorithm</td>\n",
       "      <td>write</td>\n",
       "    </tr>\n",
       "    <tr>\n",
       "      <th>fhp</th>\n",
       "      <td>eat</td>\n",
       "      <td>play</td>\n",
       "    </tr>\n",
       "    <tr>\n",
       "      <th>fhp</th>\n",
       "      <td>work</td>\n",
       "      <td>rest</td>\n",
       "    </tr>\n",
       "  </tbody>\n",
       "</table>\n",
       "</div>"
      ],
      "text/plain": [
       "          Sun.   Mon.\n",
       "dy   algorithm  write\n",
       "fhp        eat   play\n",
       "fhp       work   rest"
      ]
     },
     "execution_count": 41,
     "metadata": {},
     "output_type": "execute_result"
    }
   ],
   "source": [
    "df.loc[ : , ['Sun.', 'Mon.']]"
   ]
  },
  {
   "cell_type": "code",
   "execution_count": 42,
   "metadata": {},
   "outputs": [
    {
     "data": {
      "text/html": [
       "<div>\n",
       "<style scoped>\n",
       "    .dataframe tbody tr th:only-of-type {\n",
       "        vertical-align: middle;\n",
       "    }\n",
       "\n",
       "    .dataframe tbody tr th {\n",
       "        vertical-align: top;\n",
       "    }\n",
       "\n",
       "    .dataframe thead th {\n",
       "        text-align: right;\n",
       "    }\n",
       "</style>\n",
       "<table border=\"1\" class=\"dataframe\">\n",
       "  <thead>\n",
       "    <tr style=\"text-align: right;\">\n",
       "      <th></th>\n",
       "      <th>Sat.</th>\n",
       "      <th>Sun.</th>\n",
       "      <th>Mon.</th>\n",
       "      <th>7</th>\n",
       "      <th>8</th>\n",
       "    </tr>\n",
       "  </thead>\n",
       "  <tbody>\n",
       "    <tr>\n",
       "      <th>dy</th>\n",
       "      <td>math</td>\n",
       "      <td>algorithm</td>\n",
       "      <td>write</td>\n",
       "      <td>rest</td>\n",
       "      <td>NaN</td>\n",
       "    </tr>\n",
       "  </tbody>\n",
       "</table>\n",
       "</div>"
      ],
      "text/plain": [
       "    Sat.       Sun.   Mon.     7   8\n",
       "dy  math  algorithm  write  rest NaN"
      ]
     },
     "execution_count": 42,
     "metadata": {},
     "output_type": "execute_result"
    }
   ],
   "source": [
    "droped_df = df.drop('fhp') ## drop row\n",
    "droped_df"
   ]
  },
  {
   "cell_type": "code",
   "execution_count": 43,
   "metadata": {},
   "outputs": [
    {
     "data": {
      "text/html": [
       "<div>\n",
       "<style scoped>\n",
       "    .dataframe tbody tr th:only-of-type {\n",
       "        vertical-align: middle;\n",
       "    }\n",
       "\n",
       "    .dataframe tbody tr th {\n",
       "        vertical-align: top;\n",
       "    }\n",
       "\n",
       "    .dataframe thead th {\n",
       "        text-align: right;\n",
       "    }\n",
       "</style>\n",
       "<table border=\"1\" class=\"dataframe\">\n",
       "  <thead>\n",
       "    <tr style=\"text-align: right;\">\n",
       "      <th></th>\n",
       "      <th>Sat.</th>\n",
       "      <th>Sun.</th>\n",
       "      <th>Mon.</th>\n",
       "      <th>7</th>\n",
       "      <th>8</th>\n",
       "    </tr>\n",
       "  </thead>\n",
       "  <tbody>\n",
       "    <tr>\n",
       "      <th>dy</th>\n",
       "      <td>math</td>\n",
       "      <td>algorithm</td>\n",
       "      <td>write</td>\n",
       "      <td>rest</td>\n",
       "      <td>NaN</td>\n",
       "    </tr>\n",
       "    <tr>\n",
       "      <th>fhp</th>\n",
       "      <td>sleep</td>\n",
       "      <td>eat</td>\n",
       "      <td>play</td>\n",
       "      <td>NaN</td>\n",
       "      <td>NaN</td>\n",
       "    </tr>\n",
       "    <tr>\n",
       "      <th>fhp</th>\n",
       "      <td>work</td>\n",
       "      <td>work</td>\n",
       "      <td>rest</td>\n",
       "      <td>NaN</td>\n",
       "      <td>NaN</td>\n",
       "    </tr>\n",
       "  </tbody>\n",
       "</table>\n",
       "</div>"
      ],
      "text/plain": [
       "      Sat.       Sun.   Mon.     7   8\n",
       "dy    math  algorithm  write  rest NaN\n",
       "fhp  sleep        eat   play   NaN NaN\n",
       "fhp   work       work   rest   NaN NaN"
      ]
     },
     "execution_count": 43,
     "metadata": {},
     "output_type": "execute_result"
    }
   ],
   "source": [
    "df"
   ]
  },
  {
   "cell_type": "code",
   "execution_count": 45,
   "metadata": {},
   "outputs": [
    {
     "data": {
      "text/html": [
       "<div>\n",
       "<style scoped>\n",
       "    .dataframe tbody tr th:only-of-type {\n",
       "        vertical-align: middle;\n",
       "    }\n",
       "\n",
       "    .dataframe tbody tr th {\n",
       "        vertical-align: top;\n",
       "    }\n",
       "\n",
       "    .dataframe thead th {\n",
       "        text-align: right;\n",
       "    }\n",
       "</style>\n",
       "<table border=\"1\" class=\"dataframe\">\n",
       "  <thead>\n",
       "    <tr style=\"text-align: right;\">\n",
       "      <th></th>\n",
       "      <th>Sat.</th>\n",
       "      <th>Sun.</th>\n",
       "      <th>Mon.</th>\n",
       "      <th>8</th>\n",
       "    </tr>\n",
       "  </thead>\n",
       "  <tbody>\n",
       "    <tr>\n",
       "      <th>dy</th>\n",
       "      <td>math</td>\n",
       "      <td>algorithm</td>\n",
       "      <td>write</td>\n",
       "      <td>NaN</td>\n",
       "    </tr>\n",
       "  </tbody>\n",
       "</table>\n",
       "</div>"
      ],
      "text/plain": [
       "    Sat.       Sun.   Mon.   8\n",
       "dy  math  algorithm  write NaN"
      ]
     },
     "execution_count": 45,
     "metadata": {},
     "output_type": "execute_result"
    }
   ],
   "source": [
    "del droped_df[7]  ## drop col\n",
    "droped_df"
   ]
  },
  {
   "cell_type": "code",
   "execution_count": 49,
   "metadata": {},
   "outputs": [],
   "source": [
    "del df[7]\n",
    "del df[8]\n",
    "df['Tom.'] = 'talk'  ## add col"
   ]
  },
  {
   "cell_type": "code",
   "execution_count": 50,
   "metadata": {},
   "outputs": [
    {
     "data": {
      "text/html": [
       "<div>\n",
       "<style scoped>\n",
       "    .dataframe tbody tr th:only-of-type {\n",
       "        vertical-align: middle;\n",
       "    }\n",
       "\n",
       "    .dataframe tbody tr th {\n",
       "        vertical-align: top;\n",
       "    }\n",
       "\n",
       "    .dataframe thead th {\n",
       "        text-align: right;\n",
       "    }\n",
       "</style>\n",
       "<table border=\"1\" class=\"dataframe\">\n",
       "  <thead>\n",
       "    <tr style=\"text-align: right;\">\n",
       "      <th></th>\n",
       "      <th>Sat.</th>\n",
       "      <th>Sun.</th>\n",
       "      <th>Mon.</th>\n",
       "      <th>Tom.</th>\n",
       "    </tr>\n",
       "  </thead>\n",
       "  <tbody>\n",
       "    <tr>\n",
       "      <th>dy</th>\n",
       "      <td>math</td>\n",
       "      <td>algorithm</td>\n",
       "      <td>write</td>\n",
       "      <td>talk</td>\n",
       "    </tr>\n",
       "    <tr>\n",
       "      <th>fhp</th>\n",
       "      <td>sleep</td>\n",
       "      <td>eat</td>\n",
       "      <td>play</td>\n",
       "      <td>talk</td>\n",
       "    </tr>\n",
       "    <tr>\n",
       "      <th>fhp</th>\n",
       "      <td>work</td>\n",
       "      <td>work</td>\n",
       "      <td>rest</td>\n",
       "      <td>talk</td>\n",
       "    </tr>\n",
       "  </tbody>\n",
       "</table>\n",
       "</div>"
      ],
      "text/plain": [
       "      Sat.       Sun.   Mon.  Tom.\n",
       "dy    math  algorithm  write  talk\n",
       "fhp  sleep        eat   play  talk\n",
       "fhp   work       work   rest  talk"
      ]
     },
     "execution_count": 50,
     "metadata": {},
     "output_type": "execute_result"
    }
   ],
   "source": [
    "df"
   ]
  },
  {
   "cell_type": "code",
   "execution_count": 62,
   "metadata": {},
   "outputs": [
    {
     "name": "stdout",
     "output_type": "stream",
     "text": [
      "已复制         1 个文件。\n"
     ]
    }
   ],
   "source": [
    "!copy D:\\Users\\Documents\\Code_\\Python\\helloworld\\pokemon.csv ."
   ]
  },
  {
   "cell_type": "code",
   "execution_count": 77,
   "metadata": {},
   "outputs": [
    {
     "data": {
      "text/html": [
       "<div>\n",
       "<style scoped>\n",
       "    .dataframe tbody tr th:only-of-type {\n",
       "        vertical-align: middle;\n",
       "    }\n",
       "\n",
       "    .dataframe tbody tr th {\n",
       "        vertical-align: top;\n",
       "    }\n",
       "\n",
       "    .dataframe thead th {\n",
       "        text-align: right;\n",
       "    }\n",
       "</style>\n",
       "<table border=\"1\" class=\"dataframe\">\n",
       "  <thead>\n",
       "    <tr style=\"text-align: right;\">\n",
       "      <th></th>\n",
       "      <th>cp</th>\n",
       "      <th>attack</th>\n",
       "      <th>attack_new</th>\n",
       "    </tr>\n",
       "    <tr>\n",
       "      <th>name</th>\n",
       "      <th></th>\n",
       "      <th></th>\n",
       "      <th></th>\n",
       "    </tr>\n",
       "  </thead>\n",
       "  <tbody>\n",
       "    <tr>\n",
       "      <th>Pidgey1</th>\n",
       "      <td>384</td>\n",
       "      <td>Aerial Ace</td>\n",
       "      <td>Air Cutter</td>\n",
       "    </tr>\n",
       "    <tr>\n",
       "      <th>Pidgey2</th>\n",
       "      <td>366</td>\n",
       "      <td>Twister</td>\n",
       "      <td>Air Cutter</td>\n",
       "    </tr>\n",
       "    <tr>\n",
       "      <th>Pidgey3</th>\n",
       "      <td>353</td>\n",
       "      <td>Aerial Ace</td>\n",
       "      <td>Air Cutter</td>\n",
       "    </tr>\n",
       "    <tr>\n",
       "      <th>Pidgey4</th>\n",
       "      <td>338</td>\n",
       "      <td>Air Cutter</td>\n",
       "      <td>Air Cutter</td>\n",
       "    </tr>\n",
       "    <tr>\n",
       "      <th>Pidgey5</th>\n",
       "      <td>242</td>\n",
       "      <td>Air Cutter</td>\n",
       "      <td>Twister</td>\n",
       "    </tr>\n",
       "  </tbody>\n",
       "</table>\n",
       "</div>"
      ],
      "text/plain": [
       "          cp      attack  attack_new\n",
       "name                                \n",
       "Pidgey1  384  Aerial Ace  Air Cutter\n",
       "Pidgey2  366     Twister  Air Cutter\n",
       "Pidgey3  353  Aerial Ace  Air Cutter\n",
       "Pidgey4  338  Air Cutter  Air Cutter\n",
       "Pidgey5  242  Air Cutter     Twister"
      ]
     },
     "execution_count": 77,
     "metadata": {},
     "output_type": "execute_result"
    }
   ],
   "source": [
    "df = pd.read_csv('pokemon.csv', index_col = 'name')\n",
    "df.head()"
   ]
  },
  {
   "cell_type": "code",
   "execution_count": 68,
   "metadata": {},
   "outputs": [
    {
     "data": {
      "text/plain": [
       "name\n",
       "Pidgey1      True\n",
       "Pidgey2      True\n",
       "Pidgey3      True\n",
       "Pidgey4     False\n",
       "Pidgey5     False\n",
       "Pidgey6     False\n",
       "Pidgey7     False\n",
       "Pidgey8     False\n",
       "Pidgey9     False\n",
       "Pidgey10    False\n",
       "Eevee1       True\n",
       "Eevee3       True\n",
       "Eevee7       True\n",
       "Eevee8       True\n",
       "Eevee9       True\n",
       "Eevee10      True\n",
       "Name: cp, dtype: bool"
      ]
     },
     "execution_count": 68,
     "metadata": {},
     "output_type": "execute_result"
    }
   ],
   "source": [
    "df['cp'] > 350  # bool mask"
   ]
  },
  {
   "cell_type": "code",
   "execution_count": 69,
   "metadata": {},
   "outputs": [
    {
     "data": {
      "text/html": [
       "<div>\n",
       "<style scoped>\n",
       "    .dataframe tbody tr th:only-of-type {\n",
       "        vertical-align: middle;\n",
       "    }\n",
       "\n",
       "    .dataframe tbody tr th {\n",
       "        vertical-align: top;\n",
       "    }\n",
       "\n",
       "    .dataframe thead th {\n",
       "        text-align: right;\n",
       "    }\n",
       "</style>\n",
       "<table border=\"1\" class=\"dataframe\">\n",
       "  <thead>\n",
       "    <tr style=\"text-align: right;\">\n",
       "      <th></th>\n",
       "      <th>cp</th>\n",
       "      <th>attack</th>\n",
       "      <th>attack_new</th>\n",
       "    </tr>\n",
       "    <tr>\n",
       "      <th>name</th>\n",
       "      <th></th>\n",
       "      <th></th>\n",
       "      <th></th>\n",
       "    </tr>\n",
       "  </thead>\n",
       "  <tbody>\n",
       "    <tr>\n",
       "      <th>Pidgey1</th>\n",
       "      <td>384.0</td>\n",
       "      <td>Aerial Ace</td>\n",
       "      <td>Air Cutter</td>\n",
       "    </tr>\n",
       "    <tr>\n",
       "      <th>Pidgey2</th>\n",
       "      <td>366.0</td>\n",
       "      <td>Twister</td>\n",
       "      <td>Air Cutter</td>\n",
       "    </tr>\n",
       "    <tr>\n",
       "      <th>Pidgey3</th>\n",
       "      <td>353.0</td>\n",
       "      <td>Aerial Ace</td>\n",
       "      <td>Air Cutter</td>\n",
       "    </tr>\n",
       "    <tr>\n",
       "      <th>Pidgey4</th>\n",
       "      <td>NaN</td>\n",
       "      <td>NaN</td>\n",
       "      <td>NaN</td>\n",
       "    </tr>\n",
       "    <tr>\n",
       "      <th>Pidgey5</th>\n",
       "      <td>NaN</td>\n",
       "      <td>NaN</td>\n",
       "      <td>NaN</td>\n",
       "    </tr>\n",
       "    <tr>\n",
       "      <th>Pidgey6</th>\n",
       "      <td>NaN</td>\n",
       "      <td>NaN</td>\n",
       "      <td>NaN</td>\n",
       "    </tr>\n",
       "    <tr>\n",
       "      <th>Pidgey7</th>\n",
       "      <td>NaN</td>\n",
       "      <td>NaN</td>\n",
       "      <td>NaN</td>\n",
       "    </tr>\n",
       "    <tr>\n",
       "      <th>Pidgey8</th>\n",
       "      <td>NaN</td>\n",
       "      <td>NaN</td>\n",
       "      <td>NaN</td>\n",
       "    </tr>\n",
       "    <tr>\n",
       "      <th>Pidgey9</th>\n",
       "      <td>NaN</td>\n",
       "      <td>NaN</td>\n",
       "      <td>NaN</td>\n",
       "    </tr>\n",
       "    <tr>\n",
       "      <th>Pidgey10</th>\n",
       "      <td>NaN</td>\n",
       "      <td>NaN</td>\n",
       "      <td>NaN</td>\n",
       "    </tr>\n",
       "    <tr>\n",
       "      <th>Eevee1</th>\n",
       "      <td>619.0</td>\n",
       "      <td>Body Slam</td>\n",
       "      <td>Aqua Tail</td>\n",
       "    </tr>\n",
       "    <tr>\n",
       "      <th>Eevee3</th>\n",
       "      <td>500.0</td>\n",
       "      <td>Dig</td>\n",
       "      <td>Fire Blast</td>\n",
       "    </tr>\n",
       "    <tr>\n",
       "      <th>Eevee7</th>\n",
       "      <td>606.0</td>\n",
       "      <td>Swift</td>\n",
       "      <td>Aqua Tail</td>\n",
       "    </tr>\n",
       "    <tr>\n",
       "      <th>Eevee8</th>\n",
       "      <td>548.0</td>\n",
       "      <td>Body Slam</td>\n",
       "      <td>Heat Wave</td>\n",
       "    </tr>\n",
       "    <tr>\n",
       "      <th>Eevee9</th>\n",
       "      <td>528.0</td>\n",
       "      <td>Dig</td>\n",
       "      <td>Thunderbolt</td>\n",
       "    </tr>\n",
       "    <tr>\n",
       "      <th>Eevee10</th>\n",
       "      <td>517.0</td>\n",
       "      <td>Body Slam</td>\n",
       "      <td>Heat Wave</td>\n",
       "    </tr>\n",
       "  </tbody>\n",
       "</table>\n",
       "</div>"
      ],
      "text/plain": [
       "             cp      attack   attack_new\n",
       "name                                    \n",
       "Pidgey1   384.0  Aerial Ace   Air Cutter\n",
       "Pidgey2   366.0     Twister   Air Cutter\n",
       "Pidgey3   353.0  Aerial Ace   Air Cutter\n",
       "Pidgey4     NaN         NaN          NaN\n",
       "Pidgey5     NaN         NaN          NaN\n",
       "Pidgey6     NaN         NaN          NaN\n",
       "Pidgey7     NaN         NaN          NaN\n",
       "Pidgey8     NaN         NaN          NaN\n",
       "Pidgey9     NaN         NaN          NaN\n",
       "Pidgey10    NaN         NaN          NaN\n",
       "Eevee1    619.0   Body Slam    Aqua Tail\n",
       "Eevee3    500.0         Dig   Fire Blast\n",
       "Eevee7    606.0       Swift    Aqua Tail\n",
       "Eevee8    548.0   Body Slam    Heat Wave\n",
       "Eevee9    528.0         Dig  Thunderbolt\n",
       "Eevee10   517.0   Body Slam    Heat Wave"
      ]
     },
     "execution_count": 69,
     "metadata": {},
     "output_type": "execute_result"
    }
   ],
   "source": [
    "df.where(df['cp'] > 350)"
   ]
  },
  {
   "cell_type": "code",
   "execution_count": 70,
   "metadata": {},
   "outputs": [
    {
     "data": {
      "text/html": [
       "<div>\n",
       "<style scoped>\n",
       "    .dataframe tbody tr th:only-of-type {\n",
       "        vertical-align: middle;\n",
       "    }\n",
       "\n",
       "    .dataframe tbody tr th {\n",
       "        vertical-align: top;\n",
       "    }\n",
       "\n",
       "    .dataframe thead th {\n",
       "        text-align: right;\n",
       "    }\n",
       "</style>\n",
       "<table border=\"1\" class=\"dataframe\">\n",
       "  <thead>\n",
       "    <tr style=\"text-align: right;\">\n",
       "      <th></th>\n",
       "      <th>cp</th>\n",
       "      <th>attack</th>\n",
       "      <th>attack_new</th>\n",
       "    </tr>\n",
       "    <tr>\n",
       "      <th>name</th>\n",
       "      <th></th>\n",
       "      <th></th>\n",
       "      <th></th>\n",
       "    </tr>\n",
       "  </thead>\n",
       "  <tbody>\n",
       "    <tr>\n",
       "      <th>Pidgey1</th>\n",
       "      <td>384</td>\n",
       "      <td>Aerial Ace</td>\n",
       "      <td>Air Cutter</td>\n",
       "    </tr>\n",
       "    <tr>\n",
       "      <th>Eevee1</th>\n",
       "      <td>619</td>\n",
       "      <td>Body Slam</td>\n",
       "      <td>Aqua Tail</td>\n",
       "    </tr>\n",
       "    <tr>\n",
       "      <th>Eevee3</th>\n",
       "      <td>500</td>\n",
       "      <td>Dig</td>\n",
       "      <td>Fire Blast</td>\n",
       "    </tr>\n",
       "    <tr>\n",
       "      <th>Eevee7</th>\n",
       "      <td>606</td>\n",
       "      <td>Swift</td>\n",
       "      <td>Aqua Tail</td>\n",
       "    </tr>\n",
       "    <tr>\n",
       "      <th>Eevee8</th>\n",
       "      <td>548</td>\n",
       "      <td>Body Slam</td>\n",
       "      <td>Heat Wave</td>\n",
       "    </tr>\n",
       "    <tr>\n",
       "      <th>Eevee9</th>\n",
       "      <td>528</td>\n",
       "      <td>Dig</td>\n",
       "      <td>Thunderbolt</td>\n",
       "    </tr>\n",
       "    <tr>\n",
       "      <th>Eevee10</th>\n",
       "      <td>517</td>\n",
       "      <td>Body Slam</td>\n",
       "      <td>Heat Wave</td>\n",
       "    </tr>\n",
       "  </tbody>\n",
       "</table>\n",
       "</div>"
      ],
      "text/plain": [
       "          cp      attack   attack_new\n",
       "name                                 \n",
       "Pidgey1  384  Aerial Ace   Air Cutter\n",
       "Eevee1   619   Body Slam    Aqua Tail\n",
       "Eevee3   500         Dig   Fire Blast\n",
       "Eevee7   606       Swift    Aqua Tail\n",
       "Eevee8   548   Body Slam    Heat Wave\n",
       "Eevee9   528         Dig  Thunderbolt\n",
       "Eevee10  517   Body Slam    Heat Wave"
      ]
     },
     "execution_count": 70,
     "metadata": {},
     "output_type": "execute_result"
    }
   ],
   "source": [
    "hcp = df[df['cp'] > 370]\n",
    "hcp"
   ]
  },
  {
   "cell_type": "code",
   "execution_count": 72,
   "metadata": {},
   "outputs": [
    {
     "data": {
      "text/html": [
       "<div>\n",
       "<style scoped>\n",
       "    .dataframe tbody tr th:only-of-type {\n",
       "        vertical-align: middle;\n",
       "    }\n",
       "\n",
       "    .dataframe tbody tr th {\n",
       "        vertical-align: top;\n",
       "    }\n",
       "\n",
       "    .dataframe thead th {\n",
       "        text-align: right;\n",
       "    }\n",
       "</style>\n",
       "<table border=\"1\" class=\"dataframe\">\n",
       "  <thead>\n",
       "    <tr style=\"text-align: right;\">\n",
       "      <th></th>\n",
       "      <th>cp</th>\n",
       "      <th>attack</th>\n",
       "      <th>attack_new</th>\n",
       "    </tr>\n",
       "    <tr>\n",
       "      <th>name</th>\n",
       "      <th></th>\n",
       "      <th></th>\n",
       "      <th></th>\n",
       "    </tr>\n",
       "  </thead>\n",
       "  <tbody>\n",
       "    <tr>\n",
       "      <th>Eevee3</th>\n",
       "      <td>500</td>\n",
       "      <td>Dig</td>\n",
       "      <td>Fire Blast</td>\n",
       "    </tr>\n",
       "    <tr>\n",
       "      <th>Eevee9</th>\n",
       "      <td>528</td>\n",
       "      <td>Dig</td>\n",
       "      <td>Thunderbolt</td>\n",
       "    </tr>\n",
       "  </tbody>\n",
       "</table>\n",
       "</div>"
      ],
      "text/plain": [
       "         cp attack   attack_new\n",
       "name                           \n",
       "Eevee3  500    Dig   Fire Blast\n",
       "Eevee9  528    Dig  Thunderbolt"
      ]
     },
     "execution_count": 72,
     "metadata": {},
     "output_type": "execute_result"
    }
   ],
   "source": [
    "df[ (df['cp'] > 370) & (df['attack']=='Dig') ]"
   ]
  },
  {
   "cell_type": "code",
   "execution_count": 78,
   "metadata": {},
   "outputs": [
    {
     "data": {
      "text/plain": [
       "Index(['Pidgey1', 'Pidgey2', 'Pidgey3', 'Pidgey4', 'Pidgey5', 'Pidgey6',\n",
       "       'Pidgey7', 'Pidgey8', 'Pidgey9', 'Pidgey10', 'Eevee1', 'Eevee3',\n",
       "       'Eevee7', 'Eevee8', 'Eevee9', 'Eevee10'],\n",
       "      dtype='object', name='name')"
      ]
     },
     "execution_count": 78,
     "metadata": {},
     "output_type": "execute_result"
    }
   ],
   "source": [
    "df.index"
   ]
  },
  {
   "cell_type": "code",
   "execution_count": 79,
   "metadata": {},
   "outputs": [
    {
     "data": {
      "text/html": [
       "<div>\n",
       "<style scoped>\n",
       "    .dataframe tbody tr th:only-of-type {\n",
       "        vertical-align: middle;\n",
       "    }\n",
       "\n",
       "    .dataframe tbody tr th {\n",
       "        vertical-align: top;\n",
       "    }\n",
       "\n",
       "    .dataframe thead th {\n",
       "        text-align: right;\n",
       "    }\n",
       "</style>\n",
       "<table border=\"1\" class=\"dataframe\">\n",
       "  <thead>\n",
       "    <tr style=\"text-align: right;\">\n",
       "      <th></th>\n",
       "      <th>cp</th>\n",
       "      <th>attack</th>\n",
       "      <th>attack_new</th>\n",
       "    </tr>\n",
       "    <tr>\n",
       "      <th>name</th>\n",
       "      <th></th>\n",
       "      <th></th>\n",
       "      <th></th>\n",
       "    </tr>\n",
       "  </thead>\n",
       "  <tbody>\n",
       "    <tr>\n",
       "      <th>Pidgey1</th>\n",
       "      <td>384</td>\n",
       "      <td>Aerial Ace</td>\n",
       "      <td>Air Cutter</td>\n",
       "    </tr>\n",
       "    <tr>\n",
       "      <th>Pidgey2</th>\n",
       "      <td>366</td>\n",
       "      <td>Twister</td>\n",
       "      <td>Air Cutter</td>\n",
       "    </tr>\n",
       "    <tr>\n",
       "      <th>Pidgey3</th>\n",
       "      <td>353</td>\n",
       "      <td>Aerial Ace</td>\n",
       "      <td>Air Cutter</td>\n",
       "    </tr>\n",
       "    <tr>\n",
       "      <th>Pidgey4</th>\n",
       "      <td>338</td>\n",
       "      <td>Air Cutter</td>\n",
       "      <td>Air Cutter</td>\n",
       "    </tr>\n",
       "    <tr>\n",
       "      <th>Pidgey5</th>\n",
       "      <td>242</td>\n",
       "      <td>Air Cutter</td>\n",
       "      <td>Twister</td>\n",
       "    </tr>\n",
       "    <tr>\n",
       "      <th>Pidgey6</th>\n",
       "      <td>129</td>\n",
       "      <td>Air Cutter</td>\n",
       "      <td>Aerial Ace</td>\n",
       "    </tr>\n",
       "    <tr>\n",
       "      <th>Pidgey7</th>\n",
       "      <td>10</td>\n",
       "      <td>Air Cutter</td>\n",
       "      <td>Air Cutter</td>\n",
       "    </tr>\n",
       "    <tr>\n",
       "      <th>Pidgey8</th>\n",
       "      <td>25</td>\n",
       "      <td>Twister</td>\n",
       "      <td>Air Cutter</td>\n",
       "    </tr>\n",
       "    <tr>\n",
       "      <th>Pidgey9</th>\n",
       "      <td>24</td>\n",
       "      <td>Twister</td>\n",
       "      <td>Twister</td>\n",
       "    </tr>\n",
       "    <tr>\n",
       "      <th>Pidgey10</th>\n",
       "      <td>161</td>\n",
       "      <td>Twister</td>\n",
       "      <td>Aerial Ace</td>\n",
       "    </tr>\n",
       "    <tr>\n",
       "      <th>fhp1</th>\n",
       "      <td>619</td>\n",
       "      <td>Body Slam</td>\n",
       "      <td>Aqua Tail</td>\n",
       "    </tr>\n",
       "    <tr>\n",
       "      <th>fhp3</th>\n",
       "      <td>500</td>\n",
       "      <td>Dig</td>\n",
       "      <td>Fire Blast</td>\n",
       "    </tr>\n",
       "    <tr>\n",
       "      <th>fhp7</th>\n",
       "      <td>606</td>\n",
       "      <td>Swift</td>\n",
       "      <td>Aqua Tail</td>\n",
       "    </tr>\n",
       "    <tr>\n",
       "      <th>fhp8</th>\n",
       "      <td>548</td>\n",
       "      <td>Body Slam</td>\n",
       "      <td>Heat Wave</td>\n",
       "    </tr>\n",
       "    <tr>\n",
       "      <th>fhp9</th>\n",
       "      <td>528</td>\n",
       "      <td>Dig</td>\n",
       "      <td>Thunderbolt</td>\n",
       "    </tr>\n",
       "    <tr>\n",
       "      <th>fhp10</th>\n",
       "      <td>517</td>\n",
       "      <td>Body Slam</td>\n",
       "      <td>Heat Wave</td>\n",
       "    </tr>\n",
       "  </tbody>\n",
       "</table>\n",
       "</div>"
      ],
      "text/plain": [
       "           cp      attack   attack_new\n",
       "name                                  \n",
       "Pidgey1   384  Aerial Ace   Air Cutter\n",
       "Pidgey2   366     Twister   Air Cutter\n",
       "Pidgey3   353  Aerial Ace   Air Cutter\n",
       "Pidgey4   338  Air Cutter   Air Cutter\n",
       "Pidgey5   242  Air Cutter      Twister\n",
       "Pidgey6   129  Air Cutter   Aerial Ace\n",
       "Pidgey7    10  Air Cutter   Air Cutter\n",
       "Pidgey8    25     Twister   Air Cutter\n",
       "Pidgey9    24     Twister      Twister\n",
       "Pidgey10  161     Twister   Aerial Ace\n",
       "fhp1      619   Body Slam    Aqua Tail\n",
       "fhp3      500         Dig   Fire Blast\n",
       "fhp7      606       Swift    Aqua Tail\n",
       "fhp8      548   Body Slam    Heat Wave\n",
       "fhp9      528         Dig  Thunderbolt\n",
       "fhp10     517   Body Slam    Heat Wave"
      ]
     },
     "execution_count": 79,
     "metadata": {},
     "output_type": "execute_result"
    }
   ],
   "source": [
    "for idx in df.index:\n",
    "    if idx[0] == 'E':\n",
    "        df.rename(index={idx : 'fhp'+idx[5:]}, inplace=True)\n",
    "df"
   ]
  },
  {
   "cell_type": "code",
   "execution_count": null,
   "metadata": {},
   "outputs": [],
   "source": []
  }
 ],
 "metadata": {
  "kernelspec": {
   "display_name": "Python 3",
   "language": "python",
   "name": "python3"
  },
  "language_info": {
   "codemirror_mode": {
    "name": "ipython",
    "version": 3
   },
   "file_extension": ".py",
   "mimetype": "text/x-python",
   "name": "python",
   "nbconvert_exporter": "python",
   "pygments_lexer": "ipython3",
   "version": "3.7.2"
  }
 },
 "nbformat": 4,
 "nbformat_minor": 2
}
